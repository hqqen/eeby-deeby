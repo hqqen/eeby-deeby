{
 "cells": [
  {
   "cell_type": "markdown",
   "metadata": {},
   "source": [
    "# PS1-Q2: Housing Price Visualization"
   ]
  },
  {
   "cell_type": "markdown",
   "metadata": {},
   "source": [
    "**Your Name:** [Insert Your Name here]\n",
    "\n",
    "**People I discussed this assignment with:** [Put \"None\" if you didn't discuss this with anyone, otherwise list the names of folks you talked about this problem set with]"
   ]
  },
  {
   "cell_type": "markdown",
   "metadata": {},
   "source": [
    "This code runs in a while loop, you'll need to force quit to get out of it. It's the only way I found that worked consistently between all computers I tested on (every other method either gave an error on one or caused new plots to draw when an update happened)"
   ]
  },
  {
   "cell_type": "code",
   "execution_count": 70,
   "metadata": {},
   "outputs": [
    {
     "data": {
      "application/vnd.jupyter.widget-view+json": {
       "model_id": "0ca50c2b47914fb6aaeb1104b4689a38",
       "version_major": 2,
       "version_minor": 0
      },
      "text/plain": [
       "FloatSlider(value=0.0, description='w')"
      ]
     },
     "metadata": {},
     "output_type": "display_data"
    },
    {
     "name": "stdout",
     "output_type": "stream",
     "text": [
      "       MedInc  HouseAge  AveRooms  AveBedrms  Population  AveOccup  Latitude  \\\n",
      "0      8.3252      41.0  6.984127   1.023810       322.0  2.555556     37.88   \n",
      "1      8.3014      21.0  6.238137   0.971880      2401.0  2.109842     37.86   \n",
      "2      7.2574      52.0  8.288136   1.073446       496.0  2.802260     37.85   \n",
      "3      5.6431      52.0  5.817352   1.073059       558.0  2.547945     37.85   \n",
      "4      3.8462      52.0  6.281853   1.081081       565.0  2.181467     37.85   \n",
      "...       ...       ...       ...        ...         ...       ...       ...   \n",
      "20635  1.5603      25.0  5.045455   1.133333       845.0  2.560606     39.48   \n",
      "20636  2.5568      18.0  6.114035   1.315789       356.0  3.122807     39.49   \n",
      "20637  1.7000      17.0  5.205543   1.120092      1007.0  2.325635     39.43   \n",
      "20638  1.8672      18.0  5.329513   1.171920       741.0  2.123209     39.43   \n",
      "20639  2.3886      16.0  5.254717   1.162264      1387.0  2.616981     39.37   \n",
      "\n",
      "       Longitude  \n",
      "0        -122.23  \n",
      "1        -122.22  \n",
      "2        -122.24  \n",
      "3        -122.25  \n",
      "4        -122.25  \n",
      "...          ...  \n",
      "20635    -121.09  \n",
      "20636    -121.21  \n",
      "20637    -121.22  \n",
      "20638    -121.32  \n",
      "20639    -121.24  \n",
      "\n",
      "[20640 rows x 8 columns]\n"
     ]
    }
   ],
   "source": [
    "import numpy as np\n",
    "import matplotlib.pyplot as plt\n",
    "import ipywidgets as widg\n",
    "from IPython.display import display, clear_output\n",
    "from sklearn.datasets import fetch_california_housing\n",
    "caHousing = fetch_california_housing(data_home='.')\n",
    "caHousingFrame = fetch_california_housing(data_home='.', as_frame = True)\n",
    "w = widg.FloatSlider()\n",
    "w.description = \"w\"\n",
    "display(w)\n",
    "#print(caHousingFrame)\n",
    "#caHousing.keys()\n",
    "\n",
    "#setup interactive widgets\n",
    "incSlider = widg.FloatSlider(description = \"Median Income (*100k USD)\", min = np.min(np.array(caHousingFrame.data.MedInc)), max = np.max(np.array(caHousingFrame.data.MedInc)), step = .0001)\n",
    "display(incSlider)\n",
    "ageSlider = widg.FloatSlider(description = \"House Age (years)\", min = np.min(np.array(caHousingFrame.data.HouseAge)), max = np.max(np.array(caHousingFrame.data.HouseAge)), step = 1)\n",
    "display(ageSlider)\n",
    "roomsSlider = widg.FloatSlider(description = \"Average # of Rooms\", min = np.min(np.array(caHousingFrame.data.AveRooms)), max = np.max(np.array(caHousingFrame.data.AveRooms)), step = .1) #why is this reported out to 6 decimals??\n",
    "display(roomsSlider)\n",
    "bedsSlider = widg.FloatSlider(description = \"Average # of Bedrooms\", min = np.min(np.array(caHousingFrame.data.AveBedrms)), max = np.max(np.array(caHousingFrame.data.AveBedrms)), step = .1)\n",
    "display(bedsSlider)\n",
    "popSlider = widg.FloatSlider(description = \"Population (100k people)\", min = np.min(np.array(caHousingFrame.data.Population)), max = np.max(np.array(caHousingFrame.data.Population)), step = 1)\n",
    "display(popSlider)\n",
    "occSlider = widg.FloatSlider(description = \"Average Occupancy (# people)\", min = np.min(np.array(caHousingFrame.data.AveOccup)), max = np.max(np.array(caHousingFrame.data.AveOccup)), step = .1)\n",
    "display(occSlider)\n",
    "latSlider = widg.FloatSlider(description = \"Latitude (deg)\", min = np.min(np.array(caHousingFrame.data.Latitude)), max = np.max(np.array(caHousingFrame.data.Latitude)), step = .01)\n",
    "display(latSlider)\n",
    "longSlider = widg.FloatSlider(description = \"Longitude (deg)\", min = np.min(np.array(caHousingFrame.data.Longitude)), max = np.max(np.array(caHousingFrame.data.Longitude)), step = .01)\n",
    "display(longSlider)\n",
    "\n",
    "\n",
    "\n",
    "\n",
    "#fig, ax = plt.subplots() \n",
    "#plt.scatter(caHousingFrame.data.get(\"Longitude\"),caHousingFrame.data.get(\"Latitude\"))\n",
    "#ax.update(ax)\n",
    "print((caHousingFrame.data))\n",
    "\n",
    "#fig = plt.figure()\n",
    "#ax = fig.add_subplot(1, 1, 1) \n",
    "\n"
   ]
  },
  {
   "cell_type": "code",
   "execution_count": null,
   "metadata": {},
   "outputs": [],
   "source": [
    "\n",
    "while 1 == 1:\n",
    "    x = np.arange(0, i, 0.1);\n",
    "    y = np.sin(x)\n",
    "    \n",
    "    ax.set_xlim(0, i)\n",
    "    \n",
    "    ax.cla()\n",
    "    ax.plot(x, y)\n",
    "    display(fig)\n",
    "    \n",
    "    clear_output(wait = True)\n",
    "    plt.pause(0.5)"
   ]
  }
 ],
 "metadata": {
  "kernelspec": {
   "display_name": "Python 3.8.3 64-bit",
   "language": "python",
   "name": "python3"
  },
  "language_info": {
   "codemirror_mode": {
    "name": "ipython",
    "version": 3
   },
   "file_extension": ".py",
   "mimetype": "text/x-python",
   "name": "python",
   "nbconvert_exporter": "python",
   "pygments_lexer": "ipython3",
   "version": "3.8.3"
  },
  "vscode": {
   "interpreter": {
    "hash": "9650cb4e16cdd4a8e8e2d128bf38d875813998db22a3c986335f89e0cb4d7bb2"
   }
  }
 },
 "nbformat": 4,
 "nbformat_minor": 1
}
