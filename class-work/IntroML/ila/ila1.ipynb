{
 "cells": [
  {
   "cell_type": "markdown",
   "metadata": {},
   "source": [
    "ILA1 - Interactive Data Visualization - Alex Beyer"
   ]
  },
  {
   "cell_type": "markdown",
   "metadata": {},
   "source": [
    "This should work for the most recent versions of all libraries used. I had consistent issues with node.js when running on my desktop that caused this to do strange things (usually crash and or generate infinite plots) but forcibly disabling any and all JavaScript in VSCode fixed that, somehow. If the issues persist on your end let me know and I will send a video of this working properly."
   ]
  },
  {
   "cell_type": "code",
   "execution_count": 5,
   "metadata": {},
   "outputs": [
    {
     "data": {
      "application/vnd.jupyter.widget-view+json": {
       "model_id": "ceab819d67f84e27aeaa1c81d4f0d0ea",
       "version_major": 2,
       "version_minor": 0
      },
      "text/plain": [
       "FloatSlider(value=0.4999, description='Min Median Income (*100k USD)', max=15.0001, min=0.4999, step=0.0001)"
      ]
     },
     "metadata": {},
     "output_type": "display_data"
    },
    {
     "data": {
      "application/vnd.jupyter.widget-view+json": {
       "model_id": "205c6e5b1feb4643baf06f537330442f",
       "version_major": 2,
       "version_minor": 0
      },
      "text/plain": [
       "FloatSlider(value=15.0001, description='Max Median Income (*100k USD)', max=15.0001, min=0.4999, step=0.0001)"
      ]
     },
     "metadata": {},
     "output_type": "display_data"
    },
    {
     "data": {
      "application/vnd.jupyter.widget-view+json": {
       "model_id": "d9e0597aff9241b89e74ae12b08ce6d8",
       "version_major": 2,
       "version_minor": 0
      },
      "text/plain": [
       "FloatSlider(value=1.0, continuous_update=False, description='Min House Age (years)', max=52.0, min=1.0, step=1…"
      ]
     },
     "metadata": {},
     "output_type": "display_data"
    },
    {
     "data": {
      "application/vnd.jupyter.widget-view+json": {
       "model_id": "11fb72749d364f3092b77ab53fb2f1d2",
       "version_major": 2,
       "version_minor": 0
      },
      "text/plain": [
       "FloatSlider(value=52.0, continuous_update=False, description='Max House Age (years)', max=52.0, min=1.0, step=…"
      ]
     },
     "metadata": {},
     "output_type": "display_data"
    },
    {
     "data": {
      "application/vnd.jupyter.widget-view+json": {
       "model_id": "224fc04760ca437d8d28359219ec1cd4",
       "version_major": 2,
       "version_minor": 0
      },
      "text/plain": [
       "FloatSlider(value=0.8461538461538461, continuous_update=False, description='Min Average # of Rooms', max=141.9…"
      ]
     },
     "metadata": {},
     "output_type": "display_data"
    },
    {
     "data": {
      "application/vnd.jupyter.widget-view+json": {
       "model_id": "9cf85e71b2dd4f68ba850e62f2cf8b45",
       "version_major": 2,
       "version_minor": 0
      },
      "text/plain": [
       "FloatSlider(value=141.9090909090909, continuous_update=False, description='Max Average # of Rooms', max=141.90…"
      ]
     },
     "metadata": {},
     "output_type": "display_data"
    },
    {
     "data": {
      "application/vnd.jupyter.widget-view+json": {
       "model_id": "4f97b85dc44542189b203bf178a9462e",
       "version_major": 2,
       "version_minor": 0
      },
      "text/plain": [
       "FloatSlider(value=0.3333333333333333, continuous_update=False, description='Min Average # of Bedrooms', max=34…"
      ]
     },
     "metadata": {},
     "output_type": "display_data"
    },
    {
     "data": {
      "application/vnd.jupyter.widget-view+json": {
       "model_id": "570d1059069246e8bec42a626bcb5fdc",
       "version_major": 2,
       "version_minor": 0
      },
      "text/plain": [
       "FloatSlider(value=34.06666666666667, continuous_update=False, description='Max Average # of Bedrooms', max=34.…"
      ]
     },
     "metadata": {},
     "output_type": "display_data"
    },
    {
     "data": {
      "application/vnd.jupyter.widget-view+json": {
       "model_id": "8e246704447f4146a752bffc8974383e",
       "version_major": 2,
       "version_minor": 0
      },
      "text/plain": [
       "FloatSlider(value=3.0, continuous_update=False, description='Min Population (100k people)', max=35682.0, min=3…"
      ]
     },
     "metadata": {},
     "output_type": "display_data"
    },
    {
     "data": {
      "application/vnd.jupyter.widget-view+json": {
       "model_id": "05523205088545cf9bbdf2031e8a9f87",
       "version_major": 2,
       "version_minor": 0
      },
      "text/plain": [
       "FloatSlider(value=35682.0, continuous_update=False, description='Max Population (100k people)', max=35682.0, m…"
      ]
     },
     "metadata": {},
     "output_type": "display_data"
    },
    {
     "data": {
      "application/vnd.jupyter.widget-view+json": {
       "model_id": "ba265d15dd024865a6cd52ced8c1e273",
       "version_major": 2,
       "version_minor": 0
      },
      "text/plain": [
       "FloatSlider(value=0.6923076923076923, continuous_update=False, description='Min Average Occupancy (# people)',…"
      ]
     },
     "metadata": {},
     "output_type": "display_data"
    },
    {
     "data": {
      "application/vnd.jupyter.widget-view+json": {
       "model_id": "15b4f1ab204042cc87f0d88731ab9e2b",
       "version_major": 2,
       "version_minor": 0
      },
      "text/plain": [
       "FloatSlider(value=1243.3333333333333, continuous_update=False, description='Max Average Occupancy (# people)',…"
      ]
     },
     "metadata": {},
     "output_type": "display_data"
    },
    {
     "data": {
      "application/vnd.jupyter.widget-view+json": {
       "model_id": "7f09e549e24d437f981462b01decd04d",
       "version_major": 2,
       "version_minor": 0
      },
      "text/plain": [
       "FloatSlider(value=32.54, continuous_update=False, description='Min Latitude (deg)', max=41.95, min=32.54, step…"
      ]
     },
     "metadata": {},
     "output_type": "display_data"
    },
    {
     "data": {
      "application/vnd.jupyter.widget-view+json": {
       "model_id": "8060a9fdfcce43418440d6c54a9ba1a0",
       "version_major": 2,
       "version_minor": 0
      },
      "text/plain": [
       "FloatSlider(value=41.95, continuous_update=False, description='Max Latitude (deg)', max=41.95, min=32.54, step…"
      ]
     },
     "metadata": {},
     "output_type": "display_data"
    },
    {
     "data": {
      "application/vnd.jupyter.widget-view+json": {
       "model_id": "30357a6ab99f45be9b77b1bda1f94120",
       "version_major": 2,
       "version_minor": 0
      },
      "text/plain": [
       "FloatSlider(value=-124.35, continuous_update=False, description='Min Longitude (deg)', max=-114.31, min=-124.3…"
      ]
     },
     "metadata": {},
     "output_type": "display_data"
    },
    {
     "data": {
      "application/vnd.jupyter.widget-view+json": {
       "model_id": "dac457299a6f4f10a30b8d8e6a3d3a55",
       "version_major": 2,
       "version_minor": 0
      },
      "text/plain": [
       "FloatSlider(value=-114.31, continuous_update=False, description='Max Longitude (deg)', max=-114.31, min=-124.3…"
      ]
     },
     "metadata": {},
     "output_type": "display_data"
    },
    {
     "data": {
      "application/vnd.jupyter.widget-view+json": {
       "model_id": "782dbb6bc7a14778ab8df82affee6c0a",
       "version_major": 2,
       "version_minor": 0
      },
      "text/plain": [
       "Output()"
      ]
     },
     "metadata": {},
     "output_type": "display_data"
    },
    {
     "data": {
      "image/png": "[encoded data removed]",
      "text/plain": [
       "<Figure size 640x480 with 1 Axes>"
      ]
     },
     "metadata": {},
     "output_type": "display_data"
    }
   ],
   "source": [
    "#library imports\n",
    "import numpy as np\n",
    "import matplotlib.pyplot as plt\n",
    "import ipywidgets as widg\n",
    "from IPython.display import display, clear_output\n",
    "from sklearn.datasets import fetch_california_housing\n",
    "\n",
    "#get housing data\n",
    "caHousingFrame = fetch_california_housing(data_home='.', as_frame = True)\n",
    "\n",
    "#initialize plot object\n",
    "fig = plt.figure()\n",
    "ax = fig.add_subplot(1, 1, 1) \n",
    "\n",
    "#define an updater function to be called by sliders when moved\n",
    "def updatePlot(e):\n",
    "    with out:\n",
    "        #get updated slider values\n",
    "        inc = [incMinSlider.value, incSlider.value]\n",
    "        age = [ageMinSlider.value, ageSlider.value]\n",
    "        room = [roomMinSlider.value, roomSlider.value]\n",
    "        bed = [bedMinSlider.value, bedSlider.value]\n",
    "        pop = [popMinSlider.value, popSlider.value]\n",
    "        occ = [occMinSlider.value, occSlider.value]\n",
    "        lat = [latMinSlider.value, latSlider.value]\n",
    "        long = [longMinSlider.value, longSlider.value]\n",
    "        #clear out the old plot\n",
    "        clear_output(True)\n",
    "        ax.clear()\n",
    "        #generate a new plot and mask out any data outside the user-set ranges from the sliders\n",
    "        ax.scatter(np.array(caHousingFrame.data.Longitude)[\\\n",
    "                                                        np.logical_and(np.array(caHousingFrame.data.MedInc) > inc[0], np.logical_and( \\\n",
    "                                                        np.array(caHousingFrame.data.MedInc) < inc[1], np.logical_and( \\\n",
    "                                                        np.array(caHousingFrame.data.HouseAge) > age[0], np.logical_and( \\\n",
    "                                                        np.array(caHousingFrame.data.HouseAge) < age[1], np.logical_and( \\\n",
    "                                                        np.array(caHousingFrame.data.AveRooms) > room[0], np.logical_and( \\\n",
    "                                                        np.array(caHousingFrame.data.AveRooms) < room[1], np.logical_and( \\\n",
    "                                                        np.array(caHousingFrame.data.AveBedrms) > bed[0], np.logical_and( \\\n",
    "                                                        np.array(caHousingFrame.data.AveBedrms) < bed[1], np.logical_and( \\\n",
    "                                                        np.array(caHousingFrame.data.Population) > pop[0], np.logical_and( \\\n",
    "                                                        np.array(caHousingFrame.data.Population) < pop[1], np.logical_and( \\\n",
    "                                                        np.array(caHousingFrame.data.AveOccup) > occ[0], np.logical_and( \\\n",
    "                                                        np.array(caHousingFrame.data.AveOccup) < occ[1], np.logical_and( \\\n",
    "                                                        np.array(caHousingFrame.data.Latitude) > lat[0], np.logical_and( \\\n",
    "                                                        np.array(caHousingFrame.data.Latitude) < lat[1], np.logical_and( \\\n",
    "                                                        np.array(caHousingFrame.data.Longitude) > long[0], \\\n",
    "                                                        np.array(caHousingFrame.data.Longitude) < long[1])))))))))))))))],np.array(caHousingFrame.data.Latitude)[\\\n",
    "                                                        np.logical_and(np.array(caHousingFrame.data.MedInc) > inc[0], np.logical_and( \\\n",
    "                                                        np.array(caHousingFrame.data.MedInc) < inc[1], np.logical_and( \\\n",
    "                                                        np.array(caHousingFrame.data.HouseAge) > age[0], np.logical_and( \\\n",
    "                                                        np.array(caHousingFrame.data.HouseAge) < age[1], np.logical_and( \\\n",
    "                                                        np.array(caHousingFrame.data.AveRooms) > room[0], np.logical_and( \\\n",
    "                                                        np.array(caHousingFrame.data.AveRooms) < room[1], np.logical_and( \\\n",
    "                                                        np.array(caHousingFrame.data.AveBedrms) > bed[0], np.logical_and( \\\n",
    "                                                        np.array(caHousingFrame.data.AveBedrms) < bed[1], np.logical_and( \\\n",
    "                                                        np.array(caHousingFrame.data.Population) > pop[0], np.logical_and( \\\n",
    "                                                        np.array(caHousingFrame.data.Population) < pop[1], np.logical_and( \\\n",
    "                                                        np.array(caHousingFrame.data.AveOccup) > occ[0], np.logical_and( \\\n",
    "                                                        np.array(caHousingFrame.data.AveOccup) < occ[1], np.logical_and( \\\n",
    "                                                        np.array(caHousingFrame.data.Latitude) > lat[0], np.logical_and( \\\n",
    "                                                        np.array(caHousingFrame.data.Latitude) < lat[1], np.logical_and( \\\n",
    "                                                        np.array(caHousingFrame.data.Longitude) > long[0], \\\n",
    "                                                        np.array(caHousingFrame.data.Longitude) < long[1])))))))))))))))])#compare every data point to every slider value to ensure we're masking properly\n",
    "        #draw, title and render the plot\n",
    "        display(fig)\n",
    "        ax.set_title(\"Filtered California Housing Data\")\n",
    "        plt.show()\n",
    "\n",
    "#setup interactive widgets\n",
    "#every one of these declarations follows the same 4 line format:\n",
    "#declare max value slider (w/ args)\n",
    "#define the observer using the updater from before\n",
    "#declare min value slider (w/ args)\n",
    "#define the observer for this slider the same way as before\n",
    "#income\n",
    "incSlider = widg.FloatSlider(description = \"Max Median Income (*100k USD)\", min = np.min(np.array(caHousingFrame.data.MedInc)), max = np.max(np.array(caHousingFrame.data.MedInc)), step = .0001, continuous_update = True, value = np.max(np.array(caHousingFrame.data.MedInc)))\n",
    "incSlider.observe(updatePlot)\n",
    "incMinSlider = widg.FloatSlider(description = \"Min Median Income (*100k USD)\", min = np.min(np.array(caHousingFrame.data.MedInc)), max = np.max(np.array(caHousingFrame.data.MedInc)), step = .0001, continuous_update = True)\n",
    "incMinSlider.observe(updatePlot)\n",
    "#house age\n",
    "ageSlider = widg.FloatSlider(description = \"Max House Age (years)\", min = np.min(np.array(caHousingFrame.data.HouseAge)), max = np.max(np.array(caHousingFrame.data.HouseAge)), step = 1, continuous_update = False, value = np.max(np.array(caHousingFrame.data.HouseAge)))\n",
    "ageSlider.observe(updatePlot)\n",
    "ageMinSlider = widg.FloatSlider(description = \"Min House Age (years)\", min = np.min(np.array(caHousingFrame.data.HouseAge)), max = np.max(np.array(caHousingFrame.data.HouseAge)), step = 1, continuous_update = False)\n",
    "ageMinSlider.observe(updatePlot)\n",
    "#num rooms\n",
    "roomSlider = widg.FloatSlider(description = \"Max Average # of Rooms\", min = np.min(np.array(caHousingFrame.data.AveRooms)), max = np.max(np.array(caHousingFrame.data.AveRooms)), step = .1, continuous_update = False, value = np.max(np.array(caHousingFrame.data.AveRooms))) #why is this reported out to 6 decimals??\n",
    "roomSlider.observe(updatePlot)\n",
    "roomMinSlider = widg.FloatSlider(description = \"Min Average # of Rooms\", min = np.min(np.array(caHousingFrame.data.AveRooms)), max = np.max(np.array(caHousingFrame.data.AveRooms)), step = .1, continuous_update = False) #why is this reported out to 6 decimals??\n",
    "roomMinSlider.observe(updatePlot)\n",
    "#num bed rooms\n",
    "bedSlider = widg.FloatSlider(description = \"Max Average # of Bedrooms\", min = np.min(np.array(caHousingFrame.data.AveBedrms)), max = np.max(np.array(caHousingFrame.data.AveBedrms)), step = .1, continuous_update = False, value = np.max(np.array(caHousingFrame.data.AveBedrms)))\n",
    "bedSlider.observe(updatePlot)\n",
    "bedMinSlider = widg.FloatSlider(description = \"Min Average # of Bedrooms\", min = np.min(np.array(caHousingFrame.data.AveBedrms)), max = np.max(np.array(caHousingFrame.data.AveBedrms)), step = .1, continuous_update = False)\n",
    "bedMinSlider.observe(updatePlot)\n",
    "#popln\n",
    "popSlider = widg.FloatSlider(description = \"Max Population (100k people)\", min = np.min(np.array(caHousingFrame.data.Population)), max = np.max(np.array(caHousingFrame.data.Population)), step = 1, continuous_update = False, value = np.max(np.array(caHousingFrame.data.Population)))\n",
    "popSlider.observe(updatePlot)\n",
    "popMinSlider = widg.FloatSlider(description = \"Min Population (100k people)\", min = np.min(np.array(caHousingFrame.data.Population)), max = np.max(np.array(caHousingFrame.data.Population)), step = 1, continuous_update = False)\n",
    "popMinSlider.observe(updatePlot)\n",
    "#occupancy\n",
    "occSlider = widg.FloatSlider(description = \"Max Average Occupancy (# people)\", min = np.min(np.array(caHousingFrame.data.AveOccup)), max = np.max(np.array(caHousingFrame.data.AveOccup)), step = .1, continuous_update = False, value = np.max(np.array(caHousingFrame.data.AveOccup)))\n",
    "occSlider.observe(updatePlot)\n",
    "occMinSlider = widg.FloatSlider(description = \"Min Average Occupancy (# people)\", min = np.min(np.array(caHousingFrame.data.AveOccup)), max = np.max(np.array(caHousingFrame.data.AveOccup)), step = .1, continuous_update = False)\n",
    "occMinSlider.observe(updatePlot)\n",
    "#latitude\n",
    "latSlider = widg.FloatSlider(description = \"Max Latitude (deg)\", min = np.min(np.array(caHousingFrame.data.Latitude)), max = np.max(np.array(caHousingFrame.data.Latitude)), step = .01, continuous_update = False, value = np.max(np.array(caHousingFrame.data.Latitude)))\n",
    "latSlider.observe(updatePlot)\n",
    "latMinSlider = widg.FloatSlider(description = \"Min Latitude (deg)\", min = np.min(np.array(caHousingFrame.data.Latitude)), max = np.max(np.array(caHousingFrame.data.Latitude)), step = .01, continuous_update = False)\n",
    "latMinSlider.observe(updatePlot)\n",
    "#longitude\n",
    "longSlider = widg.FloatSlider(description = \"Max Longitude (deg)\", min = np.min(np.array(caHousingFrame.data.Longitude)), max = np.max(np.array(caHousingFrame.data.Longitude)), step = .01, continuous_update = False, value = np.max(np.array(caHousingFrame.data.Longitude)))\n",
    "longSlider.observe(updatePlot)\n",
    "longMinSlider = widg.FloatSlider(description = \"Min Longitude (deg)\", min = np.min(np.array(caHousingFrame.data.Longitude)), max = np.max(np.array(caHousingFrame.data.Longitude)), step = .01, continuous_update = False, value = np.min(np.array(caHousingFrame.data.Longitude)))\n",
    "longMinSlider.observe(updatePlot)\n",
    "\n",
    "#define an output widget to contain the plot\n",
    "out = widg.Output()\n",
    "\n",
    "#finally, display everything onscreen\n",
    "display(incMinSlider, incSlider, ageMinSlider, ageSlider, roomMinSlider, roomSlider, bedMinSlider, bedSlider, popMinSlider, popSlider, occMinSlider, occSlider, latMinSlider, latSlider, longMinSlider, longSlider, out)"
   ]
  },
  {
   "cell_type": "code",
   "execution_count": 20,
   "metadata": {},
   "outputs": [
    {
     "data": {
      "application/vnd.jupyter.widget-view+json": {
       "model_id": "33a3265f5e9e4454b1b3fd05e11462f3",
       "version_major": 2,
       "version_minor": 0
      },
      "text/plain": [
       "Button(description='Click Me!', style=ButtonStyle())"
      ]
     },
     "metadata": {},
     "output_type": "display_data"
    },
    {
     "data": {
      "application/vnd.jupyter.widget-view+json": {
       "model_id": "4de4cc5ac8f1488e9b804f911598eaae",
       "version_major": 2,
       "version_minor": 0
      },
      "text/plain": [
       "Output()"
      ]
     },
     "metadata": {},
     "output_type": "display_data"
    }
   ],
   "source": [
    "from IPython.display import display\n",
    "button = widg.Button(description=\"Click Me!\")\n",
    "output = widg.Output()\n",
    "\n",
    "display(button, output)\n",
    "\n",
    "def on_button_clicked(b):\n",
    "    with output:\n",
    "        print(\"Button clicked.\")\n",
    "\n",
    "button.on_click(on_button_clicked)"
   ]
  }
 ],
 "metadata": {
  "kernelspec": {
   "display_name": "Python 3.8.3 64-bit",
   "language": "python",
   "name": "python3"
  },
  "language_info": {
   "codemirror_mode": {
    "name": "ipython",
    "version": 3
   },
   "file_extension": ".py",
   "mimetype": "text/x-python",
   "name": "python",
   "nbconvert_exporter": "python",
   "pygments_lexer": "ipython3",
   "version": "3.8.3"
  },
  "vscode": {
   "interpreter": {
    "hash": "9650cb4e16cdd4a8e8e2d128bf38d875813998db22a3c986335f89e0cb4d7bb2"
   }
  }
 },
 "nbformat": 4,
 "nbformat_minor": 1
}
