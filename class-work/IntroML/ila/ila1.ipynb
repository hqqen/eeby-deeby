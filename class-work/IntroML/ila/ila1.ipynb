{
 "cells": [
  {
   "cell_type": "markdown",
   "metadata": {},
   "source": [
    "# PS1-Q2: Housing Price Visualization"
   ]
  },
  {
   "cell_type": "markdown",
   "metadata": {},
   "source": [
    "**Your Name:** [Insert Your Name here]\n",
    "\n",
    "**People I discussed this assignment with:** [Put \"None\" if you didn't discuss this with anyone, otherwise list the names of folks you talked about this problem set with]"
   ]
  },
  {
   "cell_type": "markdown",
   "metadata": {},
   "source": [
    "# California Housing Dataset Starter Code\n",
    "The below code is a useful starting point that should get you started with exploring the California Housing data."
   ]
  },
  {
   "cell_type": "code",
   "execution_count": 3,
   "metadata": {},
   "outputs": [
    {
     "data": {
      "application/vnd.jupyter.widget-view+json": {
       "model_id": "19b92f3369ad460dbcb676478de331d2",
       "version_major": 2,
       "version_minor": 0
      },
      "text/plain": [
       "IntSlider(value=0)"
      ]
     },
     "execution_count": 3,
     "metadata": {},
     "output_type": "execute_result"
    }
   ],
   "source": [
    "import numpy as np\n",
    "import matplotlib.pyplot as plt\n",
    "import ipywidgets as widg\n",
    "from IPython import display\n",
    "from sklearn.datasets import fetch_california_housing\n",
    "cal_housing = fetch_california_housing(data_home='.')\n",
    "w = widg.IntSlider()\n",
    "w.display()"
   ]
  }
 ],
 "metadata": {
  "kernelspec": {
   "display_name": "Python 3.10.7 64-bit",
   "language": "python",
   "name": "python3"
  },
  "language_info": {
   "codemirror_mode": {
    "name": "ipython",
    "version": 3
   },
   "file_extension": ".py",
   "mimetype": "text/x-python",
   "name": "python",
   "nbconvert_exporter": "python",
   "pygments_lexer": "ipython3",
   "version": "3.10.7"
  },
  "vscode": {
   "interpreter": {
    "hash": "78b793479ce6308f83dc531325b2c3c17841ddeea90339a0cd55dd48180ce6ad"
   }
  }
 },
 "nbformat": 4,
 "nbformat_minor": 1
}
